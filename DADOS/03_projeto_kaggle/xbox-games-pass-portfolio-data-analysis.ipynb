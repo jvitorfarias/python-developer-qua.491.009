{
 "cells": [
  {
   "cell_type": "markdown",
   "metadata": {},
   "source": [
    "<div style=\"text-align: center;\">\n",
    "    <img src=\"https://sm.ign.com/ign_in/screenshot/default/xbox-gamescom-2023_nqc8.jpg\" alt=\"Xbox Gamescom 2023\" style=\"width: 60%; height: auto;\">\n",
    "</div>"
   ]
  },
  {
   "cell_type": "markdown",
   "metadata": {},
   "source": [
    "# Xbox Game Pass - Portfolio Data Analysis\n",
    "\n",
    "# Introduction\n",
    "Xbox Game Pass is a subscription service that provides access to a library of hundreds of games across multiple genres. In this project, I will explore the Xbox Game Pass portfolio based on the dataset’s last update in 2022. I will also seek to enhance the dataset by adding game genres, providing a more in-depth analysis.\n",
    "\n",
    "# Goals\n",
    "1. Enhance the dataset by adding game genres, allowing for more comprehensive analysis.\n",
    "2. Perform exploratory data analysis to uncover insights into game genres and the performance of the Xbox Game Pass portfolio.\n",
    "3. Visualise the data to ensure results are clear, accessible, and easy to interpret."
   ]
  },
  {
   "cell_type": "code",
   "execution_count": null,
   "metadata": {
    "_cell_guid": "b1076dfc-b9ad-4769-8c92-a6c4dae69d19",
    "_uuid": "8f2839f25d086af736a60e9eeb907d3b93b6e0e5",
    "execution": {
     "iopub.execute_input": "2025-08-20T16:35:31.990605Z",
     "iopub.status.busy": "2025-08-20T16:35:31.990229Z",
     "iopub.status.idle": "2025-08-20T16:35:31.997535Z",
     "shell.execute_reply": "2025-08-20T16:35:31.995876Z",
     "shell.execute_reply.started": "2025-08-20T16:35:31.990577Z"
    },
    "trusted": true
   },
   "outputs": [],
   "source": [
    "import numpy as np \n",
    "import pandas as pd \n",
    "import os\n",
    "import matplotlib.pyplot as plt\n",
    "import seaborn as sns\n",
    "import plotly.express as px\n",
    "\n",
    "# Imports necessary libraries for data manipulation and visualisation"
   ]
  },
  {
   "cell_type": "markdown",
   "metadata": {},
   "source": [
    "# 1. Game Genres\n",
    "\n",
    "1. Expanding the dataset to include game genres was achieved by uploading the original dataset (CSV file) into an LLM (Grok) and prompting it to research the genre for each game and then to create a new column for all 400+ games.\n",
    "2. Grok was able to research and perform this task by assigning each game in the list the correct genre, including sub-genres.\n",
    "3. Some data cleaning was performed in Google Sheets by separating primary genres from sub-genres, preparing the dataset for analysis."
   ]
  },
  {
   "cell_type": "code",
   "execution_count": null,
   "metadata": {
    "execution": {
     "iopub.execute_input": "2025-08-20T16:35:32.00023Z",
     "iopub.status.busy": "2025-08-20T16:35:31.999848Z",
     "iopub.status.idle": "2025-08-20T16:35:32.062959Z",
     "shell.execute_reply": "2025-08-20T16:35:32.061664Z",
     "shell.execute_reply.started": "2025-08-20T16:35:32.000195Z"
    },
    "trusted": true
   },
   "outputs": [],
   "source": [
    "# New enhanced CSV with seperated genres\n",
    "xbox = pd.read_csv('/kaggle/input/enhanced-xbox-game-pass-genres/Enhanced_Gamepass_Games_v2.csv')\n",
    "\n",
    "xbox.head()"
   ]
  },
  {
   "cell_type": "markdown",
   "metadata": {},
   "source": [
    "# 2. Data Analysis & Visualisations\n",
    "\n",
    "## Ratings by Genre\n",
    "\n",
    "**What are the Average Ratings by Genres? (Main Genre)**"
   ]
  },
  {
   "cell_type": "code",
   "execution_count": null,
   "metadata": {
    "execution": {
     "iopub.execute_input": "2025-08-20T16:35:32.065588Z",
     "iopub.status.busy": "2025-08-20T16:35:32.065074Z",
     "iopub.status.idle": "2025-08-20T16:35:32.087407Z",
     "shell.execute_reply": "2025-08-20T16:35:32.086076Z",
     "shell.execute_reply.started": "2025-08-20T16:35:32.065419Z"
    },
    "trusted": true
   },
   "outputs": [],
   "source": [
    "# Group by Main_Genre and calculate avg rating and count of games\n",
    "main_genre_stats = xbox.groupby('Main_Genre').agg({\n",
    "    'RATING': 'mean',\n",
    "    'GAME': 'count'\n",
    "}).rename(columns={'RATING': 'Average_Rating', 'GAME': 'Game_Count'}).reset_index()\n",
    "\n",
    "# Sort by Average_Rating in descending order\n",
    "main_genre_stats = main_genre_stats.sort_values('Average_Rating', ascending=False)\n",
    "\n",
    "main_genre_stats['Average_Rating'] = main_genre_stats['Average_Rating'].round(2)\n",
    "\n",
    "main_genre_stats.head(25)"
   ]
  },
  {
   "cell_type": "markdown",
   "metadata": {},
   "source": [
    "Although genres such as **Metroidvania** appear to have the highest rating, this is not a reliable indicator since it is based on only one game, compared with **Action**, which includes 182 games\n",
    "\n",
    "Let's combine the sub-genre's and count them to get a better picture."
   ]
  },
  {
   "cell_type": "code",
   "execution_count": null,
   "metadata": {
    "execution": {
     "iopub.execute_input": "2025-08-20T16:35:32.090522Z",
     "iopub.status.busy": "2025-08-20T16:35:32.088792Z",
     "iopub.status.idle": "2025-08-20T16:35:32.149105Z",
     "shell.execute_reply": "2025-08-20T16:35:32.147406Z",
     "shell.execute_reply.started": "2025-08-20T16:35:32.090474Z"
    },
    "trusted": true
   },
   "outputs": [],
   "source": [
    "# Clean columns (strip whitespace to fix dupelicates)\n",
    "for col in ['Main_Genre', 'second_genre', 'third_genre', 'fourth_genre']:\n",
    "    xbox[col] = xbox[col].str.strip()\n",
    "\n",
    "# Combine the genre columns into a single column\n",
    "genres_combined = pd.melt(\n",
    "    xbox,\n",
    "    id_vars=['GAME', 'RATING', 'GAMERS'],\n",
    "    value_vars=['Main_Genre', 'second_genre', 'third_genre', 'fourth_genre'],\n",
    "    value_name='Genre'\n",
    ").dropna(subset=['Genre'])\n",
    "\n",
    "# Group by Genre and calculate average rating and count\n",
    "all_genre_stats = genres_combined.groupby('Genre').agg({\n",
    "    'RATING': 'mean',\n",
    "    'GAME': 'count'\n",
    "}).rename(columns={'RATING': 'Average_Rating', 'GAME': 'Game_Count'}).reset_index()\n",
    "\n",
    "all_genre_stats['Average_Rating'] = all_genre_stats['Average_Rating'].round(2)\n",
    "all_genre_stats = all_genre_stats.sort_values('Game_Count', ascending=False)\n",
    "\n",
    "all_genre_stats.head(25)"
   ]
  },
  {
   "cell_type": "markdown",
   "metadata": {},
   "source": [
    "Let's visualise these results:"
   ]
  },
  {
   "cell_type": "code",
   "execution_count": null,
   "metadata": {
    "execution": {
     "iopub.execute_input": "2025-08-20T16:36:13.12378Z",
     "iopub.status.busy": "2025-08-20T16:36:13.123376Z",
     "iopub.status.idle": "2025-08-20T16:36:13.313733Z",
     "shell.execute_reply": "2025-08-20T16:36:13.312234Z",
     "shell.execute_reply.started": "2025-08-20T16:36:13.123745Z"
    },
    "trusted": true
   },
   "outputs": [],
   "source": [
    "# Create an interactive bar plot for top 15 genres by Game_Count using Plotly\n",
    "fig = px.bar(all_genre_stats.head(15), \n",
    "             x='Average_Rating', \n",
    "             y='Genre', \n",
    "             color='Game_Count',  # Use Game_Count for color variation\n",
    "             color_continuous_scale='Viridis',\n",
    "             title='Average Rating by Genre',\n",
    "             labels={'Average_Rating': 'Average Rating (1-5)', 'Genre': 'Genre', 'Game_Count': 'Game Count'},\n",
    "             category_orders={'Genre': all_genre_stats.head(15).sort_values('Average_Rating', ascending=False)['Genre'].tolist()},\n",
    "             height=600,  # Adjust height\n",
    "             width=800)   # Adjust width\n",
    "\n",
    "# Update layout\n",
    "fig.update_layout(\n",
    "    xaxis_title=\"Average Rating (1-5)\",\n",
    "    yaxis_title=\"Genre\",\n",
    "    coloraxis_colorbar_title=\"Game Count\",\n",
    "    showlegend=True\n",
    ")\n",
    "\n",
    "# Show the interactive plot\n",
    "fig.show(renderer='iframe')"
   ]
  },
  {
   "cell_type": "markdown",
   "metadata": {},
   "source": [
    "Genres **Action** and **Adventure** have a high number of games (game counts) and a high average rating, suggesting these are the most played and most popular genres alongside **RPG**."
   ]
  },
  {
   "cell_type": "markdown",
   "metadata": {},
   "source": [
    "## Ratings vs Completion Rate\n",
    "\n",
    "**Do genres with higher completion percentage (COMP %) have better ratings, indicating player satisfaction?** \n",
    "\n",
    "I'll focus on the games primary or \"main genre\" for this analysis (as opposed to including sub-genres)."
   ]
  },
  {
   "cell_type": "code",
   "execution_count": null,
   "metadata": {
    "execution": {
     "iopub.execute_input": "2025-08-20T16:35:32.221582Z",
     "iopub.status.busy": "2025-08-20T16:35:32.221295Z",
     "iopub.status.idle": "2025-08-20T16:35:32.246038Z",
     "shell.execute_reply": "2025-08-20T16:35:32.243861Z",
     "shell.execute_reply.started": "2025-08-20T16:35:32.22156Z"
    },
    "trusted": true
   },
   "outputs": [],
   "source": [
    "# Group by Main_Genre and calculate mean COMP % and RATING\n",
    "genre_comp = xbox.groupby('Main_Genre').agg({\n",
    "    'COMP %': 'mean',\n",
    "    'RATING': 'mean',\n",
    "    'GAME': 'count'  # Count of games per genre for context\n",
    "}).rename(columns={'GAME': 'Game_Count'}).reset_index()\n",
    "\n",
    "# Sort by COMP % to identify genres with high completion rates\n",
    "genre_comp = genre_comp.sort_values('COMP %', ascending=False)\n",
    "\n",
    "genre_comp['COMP %'] = genre_comp['COMP %'].round(2)\n",
    "genre_comp['RATING'] = genre_comp['RATING'].round(2)\n",
    "\n",
    "genre_comp.head(10)"
   ]
  },
  {
   "cell_type": "markdown",
   "metadata": {},
   "source": [
    "**Adventure** and **Arcade** have the highest completion rates, but how does this look when we factor in game ratings?"
   ]
  },
  {
   "cell_type": "code",
   "execution_count": null,
   "metadata": {
    "execution": {
     "iopub.execute_input": "2025-08-20T16:36:26.998841Z",
     "iopub.status.busy": "2025-08-20T16:36:26.998461Z",
     "iopub.status.idle": "2025-08-20T16:36:27.206363Z",
     "shell.execute_reply": "2025-08-20T16:36:27.204064Z",
     "shell.execute_reply.started": "2025-08-20T16:36:26.998795Z"
    },
    "trusted": true
   },
   "outputs": [],
   "source": [
    "# Interactive scatter plot with hover\n",
    "fig = px.scatter(genre_comp, x='COMP %', y='RATING', color='Main_Genre',\n",
    "                 title='Average Completion Rate vs. Rating by Genre',\n",
    "                 labels={'COMP %': 'Average Completion Rate (%)', 'RATING': 'Average Rating (out of 5)'},\n",
    "                 hover_data=['Main_Genre'])  # Hover shows genre\n",
    "\n",
    "fig.update_layout(\n",
    "    width=800,\n",
    "    height=600,\n",
    "    showlegend=True\n",
    ")\n",
    "fig.show(renderer='iframe')"
   ]
  },
  {
   "cell_type": "markdown",
   "metadata": {},
   "source": [
    "We can see a few outliers:\n",
    "\n",
    "1. Arcade\n",
    "2. Adventure\n",
    "3. Platformer\n",
    "4. Simulation\n",
    "5. Metroidvania\n",
    "\n",
    "Do games with higher completion rates have better ratings? \n",
    "\n",
    "On average, games with a higher completion percentage % **do not** indicate higher ratings, with the exception of the genre **Platformer**, which has the third highest completion rate *and* the third highest rating.\n"
   ]
  },
  {
   "cell_type": "markdown",
   "metadata": {},
   "source": [
    "Finally, let's analyse:\n",
    "\n",
    "## Player Distribution Across Genres\n",
    "\n",
    "**Which genres have the highest player engagement?** Let's highlight the most popular genres on Game Pass, potentially guiding content strategy."
   ]
  },
  {
   "cell_type": "markdown",
   "metadata": {},
   "source": [
    "> Note on Gamer Counts: Multi-genre games (e.g., Action-Adventure) add their full player count to each genre, leading to double-counting. This shows genre exposure, not unique players per genre."
   ]
  },
  {
   "cell_type": "code",
   "execution_count": null,
   "metadata": {
    "execution": {
     "iopub.execute_input": "2025-08-20T16:35:32.387631Z",
     "iopub.status.busy": "2025-08-20T16:35:32.387258Z",
     "iopub.status.idle": "2025-08-20T16:35:32.426418Z",
     "shell.execute_reply": "2025-08-20T16:35:32.424931Z",
     "shell.execute_reply.started": "2025-08-20T16:35:32.387604Z"
    },
    "trusted": true
   },
   "outputs": [],
   "source": [
    "# Ensure GAMERS is numeric in the original DataFrame before melting\n",
    "xbox['GAMERS'] = pd.to_numeric(xbox['GAMERS'].str.replace(',', ''), errors='coerce')\n",
    "\n",
    "# Recreate genres_combined with proper handling to avoid GAMERS duplication\n",
    "genres_combined_gamers = pd.melt(\n",
    "    xbox,\n",
    "    id_vars=['GAME', 'GAMERS'],  # Focus on GAME and GAMERS\n",
    "    value_vars=['Main_Genre', 'second_genre', 'third_genre', 'fourth_genre'],\n",
    "    value_name='Genre'\n",
    ").dropna(subset=['Genre'])\n",
    "\n",
    "# Group by Genre and calculate total gamers and unique game count\n",
    "genre_gamers_dist = genres_combined_gamers.groupby('Genre').agg({\n",
    "    'GAMERS': 'sum',  # Sum the numeric GAMERS values\n",
    "    'GAME': 'nunique'  # Count unique games to avoid overcounting\n",
    "}).rename(columns={'GAMERS': 'Total_Gamers', 'GAME': 'Game_Count'}).reset_index()\n",
    "\n",
    "# Ensure Total_Gamers is numeric and handle any remaining issues\n",
    "genre_gamers_dist['Total_Gamers'] = pd.to_numeric(genre_gamers_dist['Total_Gamers'], errors='coerce')\n",
    "\n",
    "# Round Total_Gamers to the nearest million for readability\n",
    "genre_gamers_dist['Total_Gamers_Millions'] = (genre_gamers_dist['Total_Gamers'] / 1_000_000).round(0) * 1_000_000\n",
    "\n",
    "# Sort by Total_Gamers in descending order\n",
    "genre_gamers_dist = genre_gamers_dist.sort_values('Total_Gamers', ascending=False)\n",
    "\n",
    "# Display the top 15 genres with formatted values\n",
    "genre_gamers_dist.head(15)"
   ]
  },
  {
   "cell_type": "code",
   "execution_count": null,
   "metadata": {
    "execution": {
     "iopub.execute_input": "2025-08-20T16:36:33.217223Z",
     "iopub.status.busy": "2025-08-20T16:36:33.216714Z",
     "iopub.status.idle": "2025-08-20T16:36:33.343956Z",
     "shell.execute_reply": "2025-08-20T16:36:33.342886Z",
     "shell.execute_reply.started": "2025-08-20T16:36:33.217194Z"
    },
    "trusted": true
   },
   "outputs": [],
   "source": [
    "# Create an interactive bar plot for Player Distribution Across Genres\n",
    "fig = px.bar(genre_gamers_dist.head(10), \n",
    "             x='Total_Gamers',\n",
    "             y='Genre',\n",
    "             color='Game_Count',  # Use Game_Count for color variation\n",
    "             color_continuous_scale='Viridis',\n",
    "             title='Player Exposure Across Genres (Top 10 by Total Gamers)',\n",
    "             labels={'Total_Gamers': 'Total Gamers (Thousands)', 'Genre': 'Genre', 'Game_Count': 'Game Count'},\n",
    "             height=600,\n",
    "             width=800)\n",
    "\n",
    "fig.update_layout(\n",
    "    xaxis_title=\"Total Gamers\",\n",
    "    yaxis_title=\"Genre\",\n",
    "    coloraxis_colorbar_title=\"Game Count\",\n",
    "    showlegend=True\n",
    ")\n",
    "\n",
    "fig.show(renderer='iframe')"
   ]
  },
  {
   "cell_type": "markdown",
   "metadata": {},
   "source": [
    "Genres **Action** & **Adventure** have the highest player exposure. A higher game count strongly correlates to a higher player distribution."
   ]
  },
  {
   "cell_type": "markdown",
   "metadata": {},
   "source": [
    "# Summary\n",
    "\n",
    "\n",
    "> 1. Genres **Action** and **Adventure** have a high game count and a high average rating, suggesting these are the most popular played and highest reached genres across Xbox Game Pass.\n",
    "> 2. Games with a higher completion percentage % **do not** indicate higher ratings, with the exception of **Platformer** games.\n",
    "> 3. Games tagged as **Action** and **Adventure** equate to around 50% of games on Game Pass by total gamers (40M).\n"
   ]
  },
  {
   "cell_type": "markdown",
   "metadata": {},
   "source": [
    "## Reflection\n",
    "\n",
    "For future analysis of this dataset, I would like to understand:\n",
    "\n",
    "1. Are popular game genres rated higher due to broader appeal? or do niche games (lower player count) receive higher ratings from smaller more dedicated fans?\n",
    "2. Is there a correlation between time to complete (hours) and higher or lower ratings?\n",
    "3. I would like to refactor the code by implementing a combined melt to reduce code duplication."
   ]
  }
 ],
 "metadata": {
  "kaggle": {
   "accelerator": "none",
   "dataSources": [
    {
     "datasetId": 2149757,
     "sourceId": 3579183,
     "sourceType": "datasetVersion"
    },
    {
     "datasetId": 8099483,
     "sourceId": 12809163,
     "sourceType": "datasetVersion"
    }
   ],
   "dockerImageVersionId": 31089,
   "isGpuEnabled": false,
   "isInternetEnabled": false,
   "language": "python",
   "sourceType": "notebook"
  },
  "kernelspec": {
   "display_name": "Python 3",
   "language": "python",
   "name": "python3"
  },
  "language_info": {
   "codemirror_mode": {
    "name": "ipython",
    "version": 3
   },
   "file_extension": ".py",
   "mimetype": "text/x-python",
   "name": "python",
   "nbconvert_exporter": "python",
   "pygments_lexer": "ipython3",
   "version": "3.11.13"
  }
 },
 "nbformat": 4,
 "nbformat_minor": 4
}

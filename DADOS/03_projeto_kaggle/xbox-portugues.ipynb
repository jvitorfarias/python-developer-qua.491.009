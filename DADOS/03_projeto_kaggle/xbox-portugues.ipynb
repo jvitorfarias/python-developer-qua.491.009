{
 "cells": [
  {
   "cell_type": "markdown",
   "id": "bb2b95f6",
   "metadata": {},
   "source": [
    "# Xbox Game Pass - Análise de Dados do Portfólio\n",
    "\n",
    "# Introdução\n",
    "O Xbox Game Pass é um serviço de assinatura que oferece acesso a uma biblioteca de centenas de jogos de diversos gêneros. Neste projeto, explorarei o portfólio do Xbox Game Pass com base na última atualização do conjunto de dados, em 2022. Também buscarei aprimorar o conjunto de dados adicionando gêneros de jogos, proporcionando uma análise mais aprofundada.\n",
    "\n",
    "# Objetivos\n",
    "1. Aprimorar o conjunto de dados adicionando gêneros de jogos, permitindo uma análise mais abrangente.\n",
    "2. Realizar uma análise exploratória de dados para obter insights sobre os gêneros de jogos e o desempenho do portfólio do Xbox Game Pass.\n",
    "3. Visualizar os dados para garantir que os resultados sejam claros, acessíveis e fáceis de interpretar."
   ]
  },
  {
   "cell_type": "code",
   "execution_count": null,
   "id": "15b9636b",
   "metadata": {},
   "outputs": [],
   "source": [
    "import numpy as np \n",
    "import pandas as pd \n",
    "import os\n",
    "import matplotlib.pyplot as plt\n",
    "import seaborn as sns\n",
    "import plotly.express as px\n",
    "\n",
    "# Imports necessary libraries for data manipulation and visualisation"
   ]
  },
  {
   "cell_type": "markdown",
   "id": "36c2aa3d",
   "metadata": {},
   "source": [
    "# 1. Gêneros de Jogos\n",
    "\n",
    "1. A expansão do conjunto de dados para incluir gêneros de jogos foi alcançada carregando o conjunto de dados original (arquivo CSV) em um LLM (Grok) e solicitando que ele pesquisasse o gênero de cada jogo e, em seguida, criasse uma nova coluna para todos os mais de 400 jogos.\n",
    "2. O Grok conseguiu pesquisar e executar essa tarefa atribuindo a cada jogo da lista o gênero correto, incluindo subgêneros.\n",
    "3. Uma limpeza de dados foi realizada no Planilhas Google, separando os gêneros primários dos subgêneros, preparando o conjunto de dados para análise."
   ]
  },
  {
   "cell_type": "code",
   "execution_count": null,
   "id": "1100320a",
   "metadata": {},
   "outputs": [],
   "source": [
    "# New enhanced CSV with seperated genres\n",
    "xbox = pd.read_csv('/kaggle/input/enhanced-xbox-game-pass-genres/Enhanced_Gamepass_Games_v2.csv')\n",
    "\n",
    "xbox.head()"
   ]
  },
  {
   "cell_type": "markdown",
   "id": "2406180c",
   "metadata": {},
   "source": [
    "# 2. Análise de Dados e Visualizações\n",
    "\n",
    "## Avaliações por Gênero\n",
    "\n",
    "**Quais são as avaliações médias por gênero? (Gênero principal)**"
   ]
  },
  {
   "cell_type": "code",
   "execution_count": null,
   "id": "08bd338e",
   "metadata": {},
   "outputs": [],
   "source": [
    "# Group by Main_Genre and calculate avg rating and count of games\n",
    "main_genre_stats = xbox.groupby('Main_Genre').agg({\n",
    "    'RATING': 'mean',\n",
    "    'GAME': 'count'\n",
    "}).rename(columns={'RATING': 'Average_Rating', 'GAME': 'Game_Count'}).reset_index()\n",
    "\n",
    "# Sort by Average_Rating in descending order\n",
    "main_genre_stats = main_genre_stats.sort_values('Average_Rating', ascending=False)\n",
    "\n",
    "main_genre_stats['Average_Rating'] = main_genre_stats['Average_Rating'].round(2)\n",
    "\n",
    "main_genre_stats.head(25)"
   ]
  },
  {
   "cell_type": "markdown",
   "id": "b009d72c",
   "metadata": {},
   "source": [
    "Embora gêneros como **Metroidvania** pareçam ter a classificação mais alta, este não é um indicador confiável, pois se baseia em apenas um jogo, em comparação com **Ação**, que inclui 182 jogos.\n",
    "\n",
    "Vamos combinar os subgêneros e contá-los para obter uma visão melhor."
   ]
  },
  {
   "cell_type": "code",
   "execution_count": null,
   "id": "117235f7",
   "metadata": {},
   "outputs": [],
   "source": [
    "# Clean columns (strip whitespace to fix dupelicates)\n",
    "for col in ['Main_Genre', 'second_genre', 'third_genre', 'fourth_genre']:\n",
    "    xbox[col] = xbox[col].str.strip()\n",
    "\n",
    "# Combine the genre columns into a single column\n",
    "genres_combined = pd.melt(\n",
    "    xbox,\n",
    "    id_vars=['GAME', 'RATING', 'GAMERS'],\n",
    "    value_vars=['Main_Genre', 'second_genre', 'third_genre', 'fourth_genre'],\n",
    "    value_name='Genre'\n",
    ").dropna(subset=['Genre'])\n",
    "\n",
    "# Group by Genre and calculate average rating and count\n",
    "all_genre_stats = genres_combined.groupby('Genre').agg({\n",
    "    'RATING': 'mean',\n",
    "    'GAME': 'count'\n",
    "}).rename(columns={'RATING': 'Average_Rating', 'GAME': 'Game_Count'}).reset_index()\n",
    "\n",
    "all_genre_stats['Average_Rating'] = all_genre_stats['Average_Rating'].round(2)\n",
    "all_genre_stats = all_genre_stats.sort_values('Game_Count', ascending=False)\n",
    "\n",
    "all_genre_stats.head(25)"
   ]
  },
  {
   "cell_type": "markdown",
   "id": "8056189e",
   "metadata": {},
   "source": [
    "Vamos visualizar estes resultados:"
   ]
  },
  {
   "cell_type": "code",
   "execution_count": null,
   "id": "f56d67ff",
   "metadata": {},
   "outputs": [],
   "source": [
    "# Create an interactive bar plot for top 15 genres by Game_Count using Plotly\n",
    "fig = px.bar(all_genre_stats.head(15), \n",
    "             x='Average_Rating', \n",
    "             y='Genre', \n",
    "             color='Game_Count',  # Use Game_Count for color variation\n",
    "             color_continuous_scale='Viridis',\n",
    "             title='Average Rating by Genre',\n",
    "             labels={'Average_Rating': 'Average Rating (1-5)', 'Genre': 'Genre', 'Game_Count': 'Game Count'},\n",
    "             category_orders={'Genre': all_genre_stats.head(15).sort_values('Average_Rating', ascending=False)['Genre'].tolist()},\n",
    "             height=600,  # Adjust height\n",
    "             width=800)   # Adjust width\n",
    "\n",
    "# Update layout\n",
    "fig.update_layout(\n",
    "    xaxis_title=\"Average Rating (1-5)\",\n",
    "    yaxis_title=\"Genre\",\n",
    "    coloraxis_colorbar_title=\"Game Count\",\n",
    "    showlegend=True\n",
    ")\n",
    "\n",
    "# Show the interactive plot\n",
    "fig.show(renderer='iframe')"
   ]
  },
  {
   "cell_type": "markdown",
   "id": "d48ad25a",
   "metadata": {},
   "source": [
    "Os gêneros **Ação** e **Aventura** têm um grande número de jogos (contagem de jogos) e uma classificação média alta, sugerindo que esses são os gêneros mais jogados e populares, juntamente com **RPG**."
   ]
  },
  {
   "cell_type": "markdown",
   "id": "784e7396",
   "metadata": {},
   "source": [
    "## Avaliações vs. Taxa de Conclusão\n",
    "\n",
    "**Gêneros com maior porcentagem de conclusão (COMP%) têm avaliações melhores, indicando a satisfação do jogador?**\n",
    "\n",
    "Vou me concentrar no gênero principal ou \"gênero principal\" do jogo para esta análise (em vez de incluir subgêneros)."
   ]
  },
  {
   "cell_type": "code",
   "execution_count": null,
   "id": "b6409ea1",
   "metadata": {},
   "outputs": [],
   "source": [
    "# Group by Main_Genre and calculate mean COMP % and RATING\n",
    "genre_comp = xbox.groupby('Main_Genre').agg({\n",
    "    'COMP %': 'mean',\n",
    "    'RATING': 'mean',\n",
    "    'GAME': 'count'  # Count of games per genre for context\n",
    "}).rename(columns={'GAME': 'Game_Count'}).reset_index()\n",
    "\n",
    "# Sort by COMP % to identify genres with high completion rates\n",
    "genre_comp = genre_comp.sort_values('COMP %', ascending=False)\n",
    "\n",
    "genre_comp['COMP %'] = genre_comp['COMP %'].round(2)\n",
    "genre_comp['RATING'] = genre_comp['RATING'].round(2)\n",
    "\n",
    "genre_comp.head(10)"
   ]
  },
  {
   "cell_type": "markdown",
   "id": "c27e53c8",
   "metadata": {},
   "source": [
    "**Aventura** e **Arcade** têm as maiores taxas de conclusão, mas como isso fica quando levamos em consideração as classificações dos jogos?"
   ]
  },
  {
   "cell_type": "code",
   "execution_count": null,
   "id": "2da5c9b5",
   "metadata": {},
   "outputs": [],
   "source": [
    "# Interactive scatter plot with hover\n",
    "fig = px.scatter(genre_comp, x='COMP %', y='RATING', color='Main_Genre',\n",
    "                 title='Average Completion Rate vs. Rating by Genre',\n",
    "                 labels={'COMP %': 'Average Completion Rate (%)', 'RATING': 'Average Rating (out of 5)'},\n",
    "                 hover_data=['Main_Genre'])  # Hover shows genre\n",
    "\n",
    "fig.update_layout(\n",
    "    width=800,\n",
    "    height=600,\n",
    "    showlegend=True\n",
    ")\n",
    "fig.show(renderer='iframe')"
   ]
  },
  {
   "cell_type": "markdown",
   "id": "485040b7",
   "metadata": {},
   "source": [
    "Podemos observar alguns casos excepcionais:\n",
    "\n",
    "1. Arcade\n",
    "2. Aventura\n",
    "3. Plataforma\n",
    "4. Simulação\n",
    "5. Metroidvania\n",
    "\n",
    "Jogos com maiores taxas de conclusão têm classificações melhores?\n",
    "\n",
    "Em média, jogos com maior porcentagem de conclusão **não** indicam classificações mais altas, com exceção do gênero **Plataforma**, que tem a terceira maior taxa de conclusão *e* a terceira maior classificação."
   ]
  },
  {
   "cell_type": "markdown",
   "id": "196cdff2",
   "metadata": {},
   "source": [
    "Por fim, vamos analisar:\n",
    "\n",
    "## Distribuição de Jogadores por Gênero\n",
    "\n",
    "**Quais gêneros têm o maior engajamento dos jogadores?** Vamos destacar os gêneros mais populares no Game Pass, potencialmente orientando a estratégia de conteúdo."
   ]
  },
  {
   "cell_type": "markdown",
   "id": "8719b1a5",
   "metadata": {},
   "source": [
    "> Observação sobre a contagem de jogadores: jogos multigênero (por exemplo, ação e aventura) somam a contagem total de jogadores a cada gênero, resultando em contagem dupla. Isso mostra a exposição ao gênero, não jogadores únicos por gênero."
   ]
  },
  {
   "cell_type": "code",
   "execution_count": null,
   "id": "d4d1f2bf",
   "metadata": {},
   "outputs": [],
   "source": [
    "# Ensure GAMERS is numeric in the original DataFrame before melting\n",
    "xbox['GAMERS'] = pd.to_numeric(xbox['GAMERS'].str.replace(',', ''), errors='coerce')\n",
    "\n",
    "# Recreate genres_combined with proper handling to avoid GAMERS duplication\n",
    "genres_combined_gamers = pd.melt(\n",
    "    xbox,\n",
    "    id_vars=['GAME', 'GAMERS'],  # Focus on GAME and GAMERS\n",
    "    value_vars=['Main_Genre', 'second_genre', 'third_genre', 'fourth_genre'],\n",
    "    value_name='Genre'\n",
    ").dropna(subset=['Genre'])\n",
    "\n",
    "# Group by Genre and calculate total gamers and unique game count\n",
    "genre_gamers_dist = genres_combined_gamers.groupby('Genre').agg({\n",
    "    'GAMERS': 'sum',  # Sum the numeric GAMERS values\n",
    "    'GAME': 'nunique'  # Count unique games to avoid overcounting\n",
    "}).rename(columns={'GAMERS': 'Total_Gamers', 'GAME': 'Game_Count'}).reset_index()\n",
    "\n",
    "# Ensure Total_Gamers is numeric and handle any remaining issues\n",
    "genre_gamers_dist['Total_Gamers'] = pd.to_numeric(genre_gamers_dist['Total_Gamers'], errors='coerce')\n",
    "\n",
    "# Round Total_Gamers to the nearest million for readability\n",
    "genre_gamers_dist['Total_Gamers_Millions'] = (genre_gamers_dist['Total_Gamers'] / 1_000_000).round(0) * 1_000_000\n",
    "\n",
    "# Sort by Total_Gamers in descending order\n",
    "genre_gamers_dist = genre_gamers_dist.sort_values('Total_Gamers', ascending=False)\n",
    "\n",
    "# Display the top 15 genres with formatted values\n",
    "genre_gamers_dist.head(15)"
   ]
  },
  {
   "cell_type": "code",
   "execution_count": null,
   "id": "db6c0e1b",
   "metadata": {},
   "outputs": [],
   "source": [
    "# Create an interactive bar plot for Player Distribution Across Genres\n",
    "fig = px.bar(genre_gamers_dist.head(10), \n",
    "             x='Total_Gamers',\n",
    "             y='Genre',\n",
    "             color='Game_Count',  # Use Game_Count for color variation\n",
    "             color_continuous_scale='Viridis',\n",
    "             title='Player Exposure Across Genres (Top 10 by Total Gamers)',\n",
    "             labels={'Total_Gamers': 'Total Gamers (Thousands)', 'Genre': 'Genre', 'Game_Count': 'Game Count'},\n",
    "             height=600,\n",
    "             width=800)\n",
    "\n",
    "fig.update_layout(\n",
    "    xaxis_title=\"Total Gamers\",\n",
    "    yaxis_title=\"Genre\",\n",
    "    coloraxis_colorbar_title=\"Game Count\",\n",
    "    showlegend=True\n",
    ")\n",
    "\n",
    "fig.show(renderer='iframe')"
   ]
  },
  {
   "cell_type": "markdown",
   "id": "81b457f2",
   "metadata": {},
   "source": [
    "Os gêneros **Ação** e **Aventura** têm a maior exposição de jogadores. Uma contagem maior de jogos está fortemente correlacionada a uma maior distribuição de jogadores."
   ]
  },
  {
   "cell_type": "markdown",
   "id": "c3ca7b82",
   "metadata": {},
   "source": [
    "# Resumo\n",
    "\n",
    "> 1. Os gêneros **Ação** e **Aventura** têm um alto número de jogos e uma alta classificação média, sugerindo que são os gêneros mais populares e mais bem alcançados no Xbox Game Pass.\n",
    "> 2. Jogos com uma porcentagem de conclusão maior **não** indicam classificações mais altas, com exceção dos jogos de **Plataforma**.\n",
    "> 3. Jogos marcados como **Ação** e **Aventura** representam cerca de 50% dos jogos no Game Pass pelo total de jogadores (40 milhões)."
   ]
  },
  {
   "cell_type": "markdown",
   "id": "ffd5d5b9",
   "metadata": {},
   "source": [
    "## Reflexão\n",
    "\n",
    "Para análises futuras deste conjunto de dados, gostaria de entender:\n",
    "\n",
    "1. Gêneros de jogos populares recebem avaliações mais altas devido ao seu apelo mais amplo? Ou jogos de nicho (menor número de jogadores) recebem avaliações mais altas de fãs menores e mais dedicados?\n",
    "2. Existe uma correlação entre o tempo de conclusão (horas) e avaliações mais altas ou mais baixas?\n",
    "3. Gostaria de refatorar o código implementando uma fusão combinada para reduzir a duplicação de código."
   ]
  },
  {
   "cell_type": "code",
   "execution_count": 1,
   "id": "d9f6115c",
   "metadata": {},
   "outputs": [
    {
     "ename": "ModuleNotFoundError",
     "evalue": "No module named 'kagglehub'",
     "output_type": "error",
     "traceback": [
      "\u001b[31m---------------------------------------------------------------------------\u001b[39m",
      "\u001b[31mModuleNotFoundError\u001b[39m                       Traceback (most recent call last)",
      "\u001b[36mCell\u001b[39m\u001b[36m \u001b[39m\u001b[32mIn[1]\u001b[39m\u001b[32m, line 1\u001b[39m\n\u001b[32m----> \u001b[39m\u001b[32m1\u001b[39m \u001b[38;5;28;01mimport\u001b[39;00m\u001b[38;5;250m \u001b[39m\u001b[34;01mkagglehub\u001b[39;00m\n\u001b[32m      3\u001b[39m \u001b[38;5;66;03m# Download latest version\u001b[39;00m\n\u001b[32m      4\u001b[39m path = kagglehub.dataset_download(\u001b[33m\"\u001b[39m\u001b[33mvines666/enhanced-xbox-game-pass-genres\u001b[39m\u001b[33m\"\u001b[39m)\n",
      "\u001b[31mModuleNotFoundError\u001b[39m: No module named 'kagglehub'"
     ]
    }
   ],
   "source": [
    "import kagglehub\n",
    "\n",
    "# Download latest version\n",
    "path = kagglehub.dataset_download(\"vines666/enhanced-xbox-game-pass-genres\")\n",
    "\n",
    "print(\"Path to dataset files:\", path)"
   ]
  }
 ],
 "metadata": {
  "kernelspec": {
   "display_name": ".venv",
   "language": "python",
   "name": "python3"
  },
  "language_info": {
   "codemirror_mode": {
    "name": "ipython",
    "version": 3
   },
   "file_extension": ".py",
   "mimetype": "text/x-python",
   "name": "python",
   "nbconvert_exporter": "python",
   "pygments_lexer": "ipython3",
   "version": "3.13.4"
  }
 },
 "nbformat": 4,
 "nbformat_minor": 5
}
